{
 "cells": [
  {
   "cell_type": "code",
   "execution_count": 1,
   "metadata": {},
   "outputs": [],
   "source": [
    "import pandas as pd\n",
    "import numpy as np\n",
    "from pathlib import Path\n",
    "import logging\n",
    "from sklearn import preprocessing\n",
    "from sklearn.model_selection import train_test_split\n",
    "from sklearn.metrics import log_loss\n",
    "from sklearn.naive_bayes import BernoulliNB\n",
    "from sklearn.linear_model import LogisticRegression\n",
    "import time"
   ]
  },
  {
   "cell_type": "code",
   "execution_count": 17,
   "metadata": {},
   "outputs": [
    {
     "name": "stdout",
     "output_type": "stream",
     "text": [
      "                 Dates        Category                      Descript  \\\n",
      "0  2015-05-13 23:53:00        WARRANTS                WARRANT ARREST   \n",
      "1  2015-05-13 23:53:00  OTHER OFFENSES      TRAFFIC VIOLATION ARREST   \n",
      "2  2015-05-13 23:33:00  OTHER OFFENSES      TRAFFIC VIOLATION ARREST   \n",
      "3  2015-05-13 23:30:00   LARCENY/THEFT  GRAND THEFT FROM LOCKED AUTO   \n",
      "4  2015-05-13 23:30:00   LARCENY/THEFT  GRAND THEFT FROM LOCKED AUTO   \n",
      "\n",
      "   DayOfWeek PdDistrict      Resolution                    Address  \\\n",
      "0  Wednesday   NORTHERN  ARREST, BOOKED         OAK ST / LAGUNA ST   \n",
      "1  Wednesday   NORTHERN  ARREST, BOOKED         OAK ST / LAGUNA ST   \n",
      "2  Wednesday   NORTHERN  ARREST, BOOKED  VANNESS AV / GREENWICH ST   \n",
      "3  Wednesday   NORTHERN            NONE   1500 Block of LOMBARD ST   \n",
      "4  Wednesday       PARK            NONE  100 Block of BRODERICK ST   \n",
      "\n",
      "            X          Y  \n",
      "0 -122.425892  37.774599  \n",
      "1 -122.425892  37.774599  \n",
      "2 -122.424363  37.800414  \n",
      "3 -122.426995  37.800873  \n",
      "4 -122.438738  37.771541  \n",
      "Dates         0\n",
      "Category      0\n",
      "Descript      0\n",
      "DayOfWeek     0\n",
      "PdDistrict    0\n",
      "Resolution    0\n",
      "Address       0\n",
      "X             0\n",
      "Y             0\n",
      "dtype: int64\n"
     ]
    }
   ],
   "source": [
    "data = pd.read_csv(r'D:\\IDM\\Zips\\sf-crime_2\\train.csv')\n",
    "print(data.head())\n",
    "print(data.isnull().sum())"
   ]
  },
  {
   "cell_type": "code",
   "execution_count": 18,
   "metadata": {},
   "outputs": [
    {
     "name": "stdout",
     "output_type": "stream",
     "text": [
      "2323\n",
      "                      Dates            Category  \\\n",
      "582     2015-05-12 11:30:00       LARCENY/THEFT   \n",
      "1133    2015-05-03 23:00:00           VANDALISM   \n",
      "1822    2015-05-02 02:30:00             ASSAULT   \n",
      "2109    2015-05-01 11:30:00      OTHER OFFENSES   \n",
      "3004    2015-04-29 10:00:00           VANDALISM   \n",
      "3335    2015-04-28 12:40:00      OTHER OFFENSES   \n",
      "3734    2015-04-27 12:00:00      MISSING PERSON   \n",
      "4516    2015-04-18 16:00:00       LARCENY/THEFT   \n",
      "4773    2015-04-17 21:55:00           VANDALISM   \n",
      "5655    2015-04-15 20:30:00       LARCENY/THEFT   \n",
      "5681    2015-04-15 19:30:00       LARCENY/THEFT   \n",
      "5786    2015-04-15 15:45:00      OTHER OFFENSES   \n",
      "5800    2015-04-15 15:00:00       LARCENY/THEFT   \n",
      "7224    2015-04-04 22:00:00            BURGLARY   \n",
      "7428    2015-04-04 12:40:00       LARCENY/THEFT   \n",
      "7864    2015-04-03 14:15:00        NON-CRIMINAL   \n",
      "7978    2015-04-03 09:00:00       VEHICLE THEFT   \n",
      "8252    2015-04-02 16:50:00      MISSING PERSON   \n",
      "8704    2015-04-01 13:00:00       LARCENY/THEFT   \n",
      "8890    2015-03-31 21:35:00       LARCENY/THEFT   \n",
      "9076    2015-03-31 14:30:00       LARCENY/THEFT   \n",
      "9317    2015-03-30 21:00:00       LARCENY/THEFT   \n",
      "9351    2015-03-30 19:45:00           VANDALISM   \n",
      "9356    2015-03-30 19:45:00           VANDALISM   \n",
      "9357    2015-03-30 19:45:00           VANDALISM   \n",
      "9358    2015-03-30 19:45:00           VANDALISM   \n",
      "9884    2015-03-22 13:30:00               FRAUD   \n",
      "10710   2015-03-20 16:00:00       VEHICLE THEFT   \n",
      "11087   2015-03-19 19:00:00            BURGLARY   \n",
      "12550   2015-03-16 08:30:00             RUNAWAY   \n",
      "...                     ...                 ...   \n",
      "866779  2003-02-22 17:00:00           VANDALISM   \n",
      "867468  2003-02-21 00:01:00           VANDALISM   \n",
      "867819  2003-02-20 08:15:00      MISSING PERSON   \n",
      "868321  2003-02-19 05:30:00       LARCENY/THEFT   \n",
      "868683  2003-02-18 10:50:00      OTHER OFFENSES   \n",
      "868910  2003-02-17 20:00:00       LARCENY/THEFT   \n",
      "869408  2003-02-09 14:05:00       LARCENY/THEFT   \n",
      "869841  2003-02-08 10:00:00       LARCENY/THEFT   \n",
      "869846  2003-02-08 09:32:00             RUNAWAY   \n",
      "870369  2003-02-07 09:00:00               FRAUD   \n",
      "870527  2003-02-06 21:45:00      OTHER OFFENSES   \n",
      "870950  2003-02-05 23:30:00       LARCENY/THEFT   \n",
      "871025  2003-02-05 19:30:00      OTHER OFFENSES   \n",
      "872511  2003-01-26 03:00:00            WARRANTS   \n",
      "872772  2003-01-25 15:30:00      MISSING PERSON   \n",
      "872784  2003-01-25 15:00:00       LARCENY/THEFT   \n",
      "873321  2003-01-24 12:15:00       LARCENY/THEFT   \n",
      "874864  2003-01-20 20:00:00       LARCENY/THEFT   \n",
      "874870  2003-01-20 20:00:00       LARCENY/THEFT   \n",
      "875516  2003-01-12 00:17:00      OTHER OFFENSES   \n",
      "875711  2003-01-11 14:45:00       LARCENY/THEFT   \n",
      "875971  2003-01-10 21:00:00      MISSING PERSON   \n",
      "876096  2003-01-10 15:00:00      SUSPICIOUS OCC   \n",
      "876305  2003-01-09 23:15:00        PROSTITUTION   \n",
      "876915  2003-01-08 16:00:00            BURGLARY   \n",
      "876933  2003-01-08 15:30:00            BURGLARY   \n",
      "877116  2003-01-08 08:35:00      OTHER OFFENSES   \n",
      "877117  2003-01-08 08:35:00  DISORDERLY CONDUCT   \n",
      "877162  2003-01-08 05:50:00      OTHER OFFENSES   \n",
      "877348  2003-01-07 18:25:00        PROSTITUTION   \n",
      "\n",
      "                                                 Descript  DayOfWeek  \\\n",
      "582                          GRAND THEFT FROM LOCKED AUTO    Tuesday   \n",
      "1133            MALICIOUS MISCHIEF, VANDALISM OF VEHICLES     Sunday   \n",
      "1822                                              BATTERY   Saturday   \n",
      "2109                DRIVERS LICENSE, SUSPENDED OR REVOKED     Friday   \n",
      "3004                        MALICIOUS MISCHIEF, VANDALISM  Wednesday   \n",
      "3335                           INCIDENT ON SCHOOL GROUNDS    Tuesday   \n",
      "3734                                        MISSING ADULT     Monday   \n",
      "4516                         PETTY THEFT FROM LOCKED AUTO   Saturday   \n",
      "4773            MALICIOUS MISCHIEF, VANDALISM OF VEHICLES     Friday   \n",
      "5655                         GRAND THEFT FROM LOCKED AUTO  Wednesday   \n",
      "5681                         GRAND THEFT FROM LOCKED AUTO  Wednesday   \n",
      "5786                                HARASSING PHONE CALLS  Wednesday   \n",
      "5800                         PETTY THEFT FROM LOCKED AUTO  Wednesday   \n",
      "7224                BURGLARY OF RESIDENCE, UNLAWFUL ENTRY   Saturday   \n",
      "7428                              PETTY THEFT OF PROPERTY   Saturday   \n",
      "7864                 AIDED CASE -PROPERTY FOR DESTRUCTION     Friday   \n",
      "7978                                    STOLEN AUTOMOBILE     Friday   \n",
      "8252                                     MISSING JUVENILE   Thursday   \n",
      "8704                         GRAND THEFT FROM LOCKED AUTO  Wednesday   \n",
      "8890                         GRAND THEFT FROM LOCKED AUTO    Tuesday   \n",
      "9076                              PETTY THEFT SHOPLIFTING    Tuesday   \n",
      "9317                         GRAND THEFT FROM LOCKED AUTO     Monday   \n",
      "9351            MALICIOUS MISCHIEF, VANDALISM OF VEHICLES     Monday   \n",
      "9356            MALICIOUS MISCHIEF, VANDALISM OF VEHICLES     Monday   \n",
      "9357            MALICIOUS MISCHIEF, VANDALISM OF VEHICLES     Monday   \n",
      "9358            MALICIOUS MISCHIEF, VANDALISM OF VEHICLES     Monday   \n",
      "9884                         CREDIT CARD, THEFT BY USE OF     Sunday   \n",
      "10710                                   STOLEN AUTOMOBILE     Friday   \n",
      "11087         BURGLARY OF APARTMENT HOUSE, UNLAWFUL ENTRY   Thursday   \n",
      "12550                                             RUNAWAY     Monday   \n",
      "...                                                   ...        ...   \n",
      "866779                      MALICIOUS MISCHIEF, VANDALISM   Saturday   \n",
      "867468                       MALICIOUS MISCHIEF, GRAFFITI     Friday   \n",
      "867819                                   MISSING JUVENILE   Thursday   \n",
      "868321                       GRAND THEFT FROM LOCKED AUTO  Wednesday   \n",
      "868683                        VIOLATION OF MUNICIPAL CODE    Tuesday   \n",
      "868910                         LOST PROPERTY, PETTY THEFT     Monday   \n",
      "869408                            PETTY THEFT SHOPLIFTING     Sunday   \n",
      "869841                        PETTY THEFT FROM A BUILDING   Saturday   \n",
      "869846                                            RUNAWAY   Saturday   \n",
      "870369                       FALSE PRETENSES, GRAND THEFT     Friday   \n",
      "870527                 VIOLATION OF MUNICIPAL POLICE CODE   Thursday   \n",
      "870950                       GRAND THEFT FROM LOCKED AUTO  Wednesday   \n",
      "871025                     VIOLATION OF RESTRAINING ORDER  Wednesday   \n",
      "872511                    ENROUTE TO OUTSIDE JURISDICTION     Sunday   \n",
      "872772                                   MISSING JUVENILE   Saturday   \n",
      "872784                     PETTY THEFT FROM UNLOCKED AUTO   Saturday   \n",
      "873321                            PETTY THEFT SHOPLIFTING     Friday   \n",
      "874864                        GRAND THEFT FROM A BUILDING     Monday   \n",
      "874870                        GRAND THEFT FROM A BUILDING     Monday   \n",
      "875516                        MISCELLANEOUS INVESTIGATION     Sunday   \n",
      "875711                             PETTY THEFT WITH PRIOR   Saturday   \n",
      "875971                                   MISSING JUVENILE     Friday   \n",
      "876096                              SUSPICIOUS OCCURRENCE     Friday   \n",
      "876305                   SOLICITS FOR ACT OF PROSTITUTION   Thursday   \n",
      "876915  BURGLARY,BLDG. UNDER CONSTRUCTION, UNLAWFUL ENTRY  Wednesday   \n",
      "876933  BURGLARY,BLDG. UNDER CONSTRUCTION, UNLAWFUL ENTRY  Wednesday   \n",
      "877116                 VIOLATION OF MUNICIPAL POLICE CODE  Wednesday   \n",
      "877117                         COMMITTING PUBLIC NUISANCE  Wednesday   \n",
      "877162                 VIOLATION OF MUNICIPAL POLICE CODE  Wednesday   \n",
      "877348                   SOLICITS FOR ACT OF PROSTITUTION    Tuesday   \n",
      "\n",
      "        PdDistrict      Resolution                        Address           X  \\\n",
      "582       SOUTHERN            NONE         800 Block of BRYANT ST -122.403405   \n",
      "1133       CENTRAL            NONE    STOCKTON ST / NORTHPOINT ST -122.410501   \n",
      "1822          PARK            NONE    1300 Block of MCALLISTER ST -122.434257   \n",
      "2109      SOUTHERN  ARREST, BOOKED          10TH ST / HARRISON ST -122.411279   \n",
      "3004      RICHMOND            NONE   500 Block of JOHNFKENNEDY DR -122.466205   \n",
      "3335       TARAVAL            NONE          2200 Block of 14TH AV -122.470360   \n",
      "3734      NORTHERN            NONE      1100 Block of FILLMORE ST -122.432116   \n",
      "4516       CENTRAL            NONE          VALLEJO ST / DAVIS ST -122.398886   \n",
      "4773      SOUTHERN            NONE            3RD ST / CHANNEL ST -122.389898   \n",
      "5655       CENTRAL            NONE  LEAVENWORTH ST / JEFFERSON ST -122.419088   \n",
      "5681      SOUTHERN            NONE            BRANNAN ST / 4TH ST -122.396533   \n",
      "5786      NORTHERN            NONE       1400 Block of VANNESS AV -122.422163   \n",
      "5800       TARAVAL            NONE   SKYLINEBLVD HY / JOHNMUIR DR -122.500220   \n",
      "7224      RICHMOND            NONE           400 Block of 16TH AV -122.475088   \n",
      "7428       BAYVIEW  ARREST, BOOKED         0 Block of ROSIELEE LN -122.380029   \n",
      "7864      RICHMOND            NONE            400 Block of 6TH AV -122.464280   \n",
      "7978      SOUTHERN            NONE        1600 Block of MARKET ST -122.420387   \n",
      "8252       MISSION            NONE        900 Block of POTRERO AV -122.406605   \n",
      "8704       CENTRAL            NONE               BAY ST / HYDE ST -122.420180   \n",
      "8890      SOUTHERN            NONE            300 Block of 4TH ST -122.399834   \n",
      "9076    TENDERLOIN  ARREST, BOOKED         100 Block of POWELL ST -122.407878   \n",
      "9317      NORTHERN            NONE     2800 Block of GREENWICH ST -122.446474   \n",
      "9351          PARK            NONE         1400 Block of SCOTT ST -122.437674   \n",
      "9356          PARK            NONE         1400 Block of SCOTT ST -122.437674   \n",
      "9357          PARK            NONE         1400 Block of SCOTT ST -122.437674   \n",
      "9358          PARK            NONE         1400 Block of SCOTT ST -122.437674   \n",
      "9884      SOUTHERN            NONE         800 Block of BRYANT ST -122.403405   \n",
      "10710     SOUTHERN            NONE            100 Block of 2ND ST -122.398460   \n",
      "11087         PARK            NONE         1900 Block of ELLIS ST -122.438693   \n",
      "12550         PARK            NONE          1200 Block of PAGE ST -122.441394   \n",
      "...            ...             ...                            ...         ...   \n",
      "866779    RICHMOND            NONE         3900 Block of GEARY BL -122.461620   \n",
      "867468    RICHMOND            NONE         GEARY BL / ARGUELLO BL -122.458861   \n",
      "867819     TARAVAL         LOCATED           0 Block of HAROLD AV -122.453158   \n",
      "868321     TARAVAL            NONE          1400 Block of 35TH AV -122.494005   \n",
      "868683    SOUTHERN   ARREST, CITED       100 Block of VALENCIA ST -122.422513   \n",
      "868910     BAYVIEW            NONE       2000 Block of JERROLD AV -122.398691   \n",
      "869408     BAYVIEW   ARREST, CITED     2500 Block of SAN BRUNO AV -122.404407   \n",
      "869841   INGLESIDE            NONE           0 Block of PHELAN AV -122.452290   \n",
      "869846   INGLESIDE         LOCATED        300 Block of HARVARD ST -122.420053   \n",
      "870369     MISSION            NONE       2800 Block of MISSION ST -122.418296   \n",
      "870527    SOUTHERN   ARREST, CITED        900 Block of BRANNAN ST -122.406179   \n",
      "870950   INGLESIDE            NONE        200 Block of JUANITA WY -122.456350   \n",
      "871025   INGLESIDE            NONE       4800 Block of MISSION ST -122.437806   \n",
      "872511    NORTHERN  ARREST, BOOKED          VAN NESS AV / BUSH ST -122.421949   \n",
      "872772     TARAVAL            NONE        800 Block of CAPITOL AV -122.459007   \n",
      "872784    RICHMOND            NONE          18TH AV / CABRILLO ST -122.476831   \n",
      "873321  TENDERLOIN   ARREST, CITED         0 Block of STOCKTON ST -122.406352   \n",
      "874864     BAYVIEW            NONE          1000 Block of 17TH ST -122.394333   \n",
      "874870     BAYVIEW            NONE          1000 Block of 17TH ST -122.394333   \n",
      "875516    SOUTHERN            NONE        1200 Block of MARKET ST -122.415444   \n",
      "875711  TENDERLOIN  ARREST, BOOKED         0 Block of STOCKTON ST -122.406352   \n",
      "875971     MISSION         LOCATED          1700 Block of 15TH ST -122.422668   \n",
      "876096     MISSION            NONE       1300 Block of FLORIDA ST -122.409768   \n",
      "876305  TENDERLOIN   ARREST, CITED             ELLIS ST / HYDE ST -122.416075   \n",
      "876915     BAYVIEW            NONE         1800 Block of MARIN ST -122.395102   \n",
      "876933     BAYVIEW            NONE         1800 Block of MARIN ST -122.395102   \n",
      "877116    SOUTHERN   ARREST, CITED        ALAMEDA ST / VERMONT ST -122.404879   \n",
      "877117    SOUTHERN   ARREST, CITED        ALAMEDA ST / VERMONT ST -122.404879   \n",
      "877162    SOUTHERN   ARREST, CITED            HOWARD ST / RUSS ST -122.408276   \n",
      "877348    NORTHERN   ARREST, CITED         HEMLOCK ST / LARKIN ST -122.418369   \n",
      "\n",
      "                Y  \n",
      "582     37.775421  \n",
      "1133    37.806963  \n",
      "1822    37.778370  \n",
      "2109    37.771579  \n",
      "3004    37.772541  \n",
      "3335    37.746075  \n",
      "3734    37.780030  \n",
      "4516    37.799830  \n",
      "4773    37.774898  \n",
      "5655    37.807802  \n",
      "5681    37.778327  \n",
      "5786    37.788686  \n",
      "5800    37.718954  \n",
      "7224    37.779544  \n",
      "7428    37.732037  \n",
      "7864    37.780033  \n",
      "7978    37.774112  \n",
      "8252    37.757158  \n",
      "8704    37.804790  \n",
      "8890    37.781043  \n",
      "9076    37.785968  \n",
      "9317    37.797546  \n",
      "9351    37.783209  \n",
      "9356    37.783209  \n",
      "9357    37.783209  \n",
      "9358    37.783209  \n",
      "9884    37.775421  \n",
      "10710   37.787018  \n",
      "11087   37.781515  \n",
      "12550   37.771727  \n",
      "...           ...  \n",
      "866779  37.781260  \n",
      "867468  37.781255  \n",
      "867819  37.719498  \n",
      "868321  37.759995  \n",
      "868683  37.770711  \n",
      "868910  37.743941  \n",
      "869408  37.729408  \n",
      "869841  37.725693  \n",
      "869846  37.725316  \n",
      "870369  37.751428  \n",
      "870527  37.770622  \n",
      "870950  37.740791  \n",
      "871025  37.720548  \n",
      "872511  37.788488  \n",
      "872772  37.717858  \n",
      "872784  37.774777  \n",
      "873321  37.786031  \n",
      "874864  37.765222  \n",
      "874870  37.765222  \n",
      "875516  37.778025  \n",
      "875711  37.786031  \n",
      "875971  37.766557  \n",
      "876096  37.750333  \n",
      "876305  37.784450  \n",
      "876915  37.748390  \n",
      "876933  37.748390  \n",
      "877116  37.768531  \n",
      "877117  37.768531  \n",
      "877162  37.778860  \n",
      "877348  37.787486  \n",
      "\n",
      "[2323 rows x 9 columns]\n"
     ]
    }
   ],
   "source": [
    "print(data.duplicated().sum())\n",
    "print(data.loc[data.duplicated()])"
   ]
  },
  {
   "cell_type": "code",
   "execution_count": 19,
   "metadata": {},
   "outputs": [
    {
     "name": "stdout",
     "output_type": "stream",
     "text": [
      "(878049, 9)\n",
      "(875726, 9)\n"
     ]
    }
   ],
   "source": [
    "print(data.shape)\n",
    "data.drop_duplicates(inplace=True)\n",
    "print(data.shape)"
   ]
  },
  {
   "cell_type": "code",
   "execution_count": 20,
   "metadata": {},
   "outputs": [
    {
     "name": "stdout",
     "output_type": "stream",
     "text": [
      "['WARRANTS' 'OTHER OFFENSES' 'LARCENY/THEFT' 'VEHICLE THEFT' 'VANDALISM'\n",
      " 'NON-CRIMINAL' 'ROBBERY' 'ASSAULT' 'WEAPON LAWS' 'BURGLARY'\n",
      " 'SUSPICIOUS OCC' 'DRUNKENNESS' 'FORGERY/COUNTERFEITING' 'DRUG/NARCOTIC'\n",
      " 'STOLEN PROPERTY' 'SECONDARY CODES' 'TRESPASS' 'MISSING PERSON' 'FRAUD'\n",
      " 'KIDNAPPING' 'RUNAWAY' 'DRIVING UNDER THE INFLUENCE'\n",
      " 'SEX OFFENSES FORCIBLE' 'PROSTITUTION' 'DISORDERLY CONDUCT' 'ARSON'\n",
      " 'FAMILY OFFENSES' 'LIQUOR LAWS' 'BRIBERY' 'EMBEZZLEMENT' 'SUICIDE'\n",
      " 'LOITERING' 'SEX OFFENSES NON FORCIBLE' 'EXTORTION' 'GAMBLING'\n",
      " 'BAD CHECKS' 'TREA' 'RECOVERED VEHICLE' 'PORNOGRAPHY/OBSCENE MAT']\n"
     ]
    }
   ],
   "source": [
    "cats=data['Category'].unique()\n",
    "print(cats)"
   ]
  },
  {
   "cell_type": "code",
   "execution_count": 21,
   "metadata": {},
   "outputs": [
    {
     "name": "stdout",
     "output_type": "stream",
     "text": [
      "39\n"
     ]
    }
   ],
   "source": [
    "print(len(cats))"
   ]
  },
  {
   "cell_type": "code",
   "execution_count": 23,
   "metadata": {},
   "outputs": [
    {
     "name": "stdout",
     "output_type": "stream",
     "text": [
      "{'WARRANTS': 1, 'OTHER OFFENSES': 2, 'LARCENY/THEFT': 3, 'VEHICLE THEFT': 4, 'VANDALISM': 5, 'NON-CRIMINAL': 6, 'ROBBERY': 7, 'ASSAULT': 8, 'WEAPON LAWS': 9, 'BURGLARY': 10, 'SUSPICIOUS OCC': 11, 'DRUNKENNESS': 12, 'FORGERY/COUNTERFEITING': 13, 'DRUG/NARCOTIC': 14, 'STOLEN PROPERTY': 15, 'SECONDARY CODES': 16, 'TRESPASS': 17, 'MISSING PERSON': 18, 'FRAUD': 19, 'KIDNAPPING': 20, 'RUNAWAY': 21, 'DRIVING UNDER THE INFLUENCE': 22, 'SEX OFFENSES FORCIBLE': 23, 'PROSTITUTION': 24, 'DISORDERLY CONDUCT': 25, 'ARSON': 26, 'FAMILY OFFENSES': 27, 'LIQUOR LAWS': 28, 'BRIBERY': 29, 'EMBEZZLEMENT': 30, 'SUICIDE': 31, 'LOITERING': 32, 'SEX OFFENSES NON FORCIBLE': 33, 'EXTORTION': 34, 'GAMBLING': 35, 'BAD CHECKS': 36, 'TREA': 37, 'RECOVERED VEHICLE': 38, 'PORNOGRAPHY/OBSCENE MAT': 39}\n"
     ]
    }
   ],
   "source": [
    "cats_dict=dict()\n",
    "cnt=1\n",
    "for cat in cats:\n",
    "    cats_dict[cat] =cnt\n",
    "    cnt +=1\n",
    "print(cats_dict)\n",
    "    "
   ]
  },
  {
   "cell_type": "code",
   "execution_count": 24,
   "metadata": {},
   "outputs": [],
   "source": [
    "data['Category'].replace(cats_dict,inplace=True)"
   ]
  },
  {
   "cell_type": "code",
   "execution_count": 28,
   "metadata": {},
   "outputs": [
    {
     "data": {
      "image/png": "[encoded data removed]",
      "text/plain": [
       "<Figure size 540x540 with 12 Axes>"
      ]
     },
     "metadata": {},
     "output_type": "display_data"
    }
   ],
   "source": [
    "import seaborn as sns\n",
    "import matplotlib.pyplot as plt\n",
    "sns.set_style('darkgrid')\n",
    "sns.pairplot(data)\n",
    "plt.show()"
   ]
  },
  {
   "cell_type": "code",
   "execution_count": 30,
   "metadata": {},
   "outputs": [
    {
     "name": "stdout",
     "output_type": "stream",
     "text": [
      "            Category              X              Y\n",
      "count  875726.000000  875726.000000  875726.000000\n",
      "mean        7.222124    -122.422623      37.771032\n",
      "std         6.108808       0.030363       0.457497\n",
      "min         1.000000    -122.513642      37.707879\n",
      "25%         3.000000    -122.432952      37.752427\n",
      "50%         5.000000    -122.416446      37.775421\n",
      "75%        10.000000    -122.406959      37.784380\n",
      "max        39.000000    -120.500000      90.000000\n",
      "<class 'pandas.core.frame.DataFrame'>\n",
      "Int64Index: 875726 entries, 0 to 878048\n",
      "Data columns (total 9 columns):\n",
      "Dates         875726 non-null object\n",
      "Category      875726 non-null int64\n",
      "Descript      875726 non-null object\n",
      "DayOfWeek     875726 non-null object\n",
      "PdDistrict    875726 non-null object\n",
      "Resolution    875726 non-null object\n",
      "Address       875726 non-null object\n",
      "X             875726 non-null float64\n",
      "Y             875726 non-null float64\n",
      "dtypes: float64(2), int64(1), object(6)\n",
      "memory usage: 106.8+ MB\n",
      "None\n"
     ]
    }
   ],
   "source": [
    "print(data.describe())\n",
    "print(data.info())"
   ]
  },
  {
   "cell_type": "code",
   "execution_count": 39,
   "metadata": {},
   "outputs": [
    {
     "name": "stdout",
     "output_type": "stream",
     "text": [
      "<class 'pandas.core.frame.DataFrame'>\n",
      "RangeIndex: 878049 entries, 0 to 878048\n",
      "Data columns (total 9 columns):\n",
      "Dates         878049 non-null datetime64[ns]\n",
      "Category      878049 non-null object\n",
      "Descript      878049 non-null object\n",
      "DayOfWeek     878049 non-null object\n",
      "PdDistrict    878049 non-null object\n",
      "Resolution    878049 non-null object\n",
      "Address       878049 non-null object\n",
      "X             878049 non-null float64\n",
      "Y             878049 non-null float64\n",
      "dtypes: datetime64[ns](1), float64(2), object(6)\n",
      "memory usage: 60.3+ MB\n",
      "data info None\n",
      "first dates 2003-01-06 00:01:00\n"
     ]
    }
   ],
   "source": [
    "data = pd.read_csv(r'D:\\IDM\\Zips\\sf-crime_2\\train.csv',parse_dates=['Dates'])\n",
    "print('data info',data.info())\n",
    "print('first dates',str(data['Dates'].describe()['first']))"
   ]
  },
  {
   "cell_type": "code",
   "execution_count": 47,
   "metadata": {},
   "outputs": [
    {
     "name": "stdout",
     "output_type": "stream",
     "text": [
      "first dates: 2003-01-06 00:01:00\n",
      "first dates: 2015-05-13 23:53:00\n"
     ]
    }
   ],
   "source": [
    "print('first dates:',data['Dates'].describe()['first'])\n",
    "print('first dates:',data['Dates'].describe()['last'])"
   ]
  },
  {
   "cell_type": "code",
   "execution_count": 48,
   "metadata": {},
   "outputs": [
    {
     "name": "stdout",
     "output_type": "stream",
     "text": [
      "count                  878049\n",
      "unique                 389257\n",
      "top       2011-01-01 00:01:00\n",
      "freq                      185\n",
      "first     2003-01-06 00:01:00\n",
      "last      2015-05-13 23:53:00\n",
      "Name: Dates, dtype: object\n"
     ]
    }
   ],
   "source": [
    "print(data['Dates'].describe())"
   ]
  },
  {
   "cell_type": "code",
   "execution_count": 50,
   "metadata": {},
   "outputs": [
    {
     "name": "stdout",
     "output_type": "stream",
     "text": [
      "describe:                    X              Y\n",
      "count  878049.000000  878049.000000\n",
      "mean     -122.422616      37.771020\n",
      "std         0.030354       0.456893\n",
      "min      -122.513642      37.707879\n",
      "25%      -122.432952      37.752427\n",
      "50%      -122.416420      37.775421\n",
      "75%      -122.406959      37.784369\n",
      "max      -120.500000      90.000000\n"
     ]
    }
   ],
   "source": [
    "print('describe:',data.describe())"
   ]
  },
  {
   "cell_type": "code",
   "execution_count": 53,
   "metadata": {},
   "outputs": [
    {
     "name": "stdout",
     "output_type": "stream",
     "text": [
      "       X   Y\n",
      "0 -120.5  90\n",
      "1      Y   Y\n",
      "     X    Y\n",
      "0  NaN  NaN\n",
      "1    Y    Y\n"
     ]
    }
   ],
   "source": [
    "test= pd.DataFrame({'X':[-120.5,'Y'],'Y':[90.0,'Y']})\n",
    "print(test)\n",
    "test.replace({'X': -120.5, 'Y': 90.0}, np.NaN, inplace=True)\n",
    "print(test)"
   ]
  },
  {
   "cell_type": "code",
   "execution_count": null,
   "metadata": {},
   "outputs": [],
   "source": []
  }
 ],
 "metadata": {
  "kernelspec": {
   "display_name": "Python 3",
   "language": "python",
   "name": "python3"
  },
  "language_info": {
   "codemirror_mode": {
    "name": "ipython",
    "version": 3
   },
   "file_extension": ".py",
   "mimetype": "text/x-python",
   "name": "python",
   "nbconvert_exporter": "python",
   "pygments_lexer": "ipython3",
   "version": "3.7.3"
  }
 },
 "nbformat": 4,
 "nbformat_minor": 2
}
